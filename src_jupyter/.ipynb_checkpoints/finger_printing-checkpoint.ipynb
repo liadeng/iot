{
 "cells": [
  {
   "cell_type": "code",
   "execution_count": 5,
   "metadata": {},
   "outputs": [
    {
     "data": {
      "text/plain": [
       "{'d0:52:a8:00:67:5e': ['Smart Things', 'Wired'],\n",
       " '44:65:0d:56:cc:d3': ['Amazon Echo', 'Wireless'],\n",
       " '70:ee:50:18:34:43': ['Netatmo Welcome', 'Wireless'],\n",
       " 'f4:f2:6d:93:51:f1': ['TP-Link Day Night Cloud camera', 'Wireless'],\n",
       " '00:16:6c:ab:6b:88': ['Samsung SmartCam', 'Wireless'],\n",
       " '30:8c:fb:2f:e4:b2': ['Dropcam', 'Wireless'],\n",
       " '00:62:6e:51:27:2e': ['Insteon Camera', 'Wired '],\n",
       " 'e8:ab:fa:19:de:4f': ['Wireless'],\n",
       " '00:24:e4:11:18:a8': ['Withings Smart Baby Monitor', 'Wired'],\n",
       " 'ec:1a:59:79:f4:89': ['Belkin Wemo switch', 'Wireless'],\n",
       " '50:c7:bf:00:56:39': ['TP-Link Smart plug', 'Wireless'],\n",
       " '74:c6:3b:29:d7:1d': ['iHome', 'Wireless'],\n",
       " 'ec:1a:59:83:28:11': ['Belkin wemo motion sensor', 'Wireless'],\n",
       " '18:b4:30:25:be:e4': ['NEST Protect smoke alarm', 'Wireless'],\n",
       " '70:ee:50:03:b8:ac': ['Netatmo weather station', 'Wireless'],\n",
       " '00:24:e4:1b:6f:96': ['Withings Smart scale', 'Wireless'],\n",
       " '74:6a:89:00:2e:25': ['Blipcare Blood Pressure meter', 'Wireless'],\n",
       " '00:24:e4:20:28:c6': ['Withings Aura smart sleep sensor', 'Wireless'],\n",
       " 'd0:73:d5:01:83:08': ['Light Bulbs LiFX Smart Bulb', 'Wireless'],\n",
       " '18:b7:9e:02:20:44': ['Triby Speaker', 'Wireless'],\n",
       " 'e0:76:d0:33:bb:85': ['PIX-STAR Photo-frame', 'Wireless'],\n",
       " '70:5a:0f:e4:9b:c0': ['HP Printer', 'Wireless'],\n",
       " '08:21:ef:3b:fc:e3': ['Samsung Galaxy Tab', 'Wireless'],\n",
       " '30:8c:fb:b6:ea:45': ['Nest Dropcam', 'Wireless'],\n",
       " '40:f3:08:ff:1e:da': ['Android Phone', 'Wireless'],\n",
       " '74:2f:68:81:69:42': ['Laptop', 'Wireless'],\n",
       " 'ac:bc:32:d4:6f:2f': ['MacBook', 'Wireless'],\n",
       " 'b4:ce:f6:a7:a3:c2': ['Android Phone', 'Wireless'],\n",
       " 'd0:a6:37:df:a1:e1': ['IPhone', 'Wireless'],\n",
       " 'f4:5c:89:93:cc:85': ['MacBook/Iphone', 'Wireless'],\n",
       " '14:cc:20:51:33:ea': ['TPLink Router Bridge LAN (Gateway)', 'Wired']}"
      ]
     },
     "metadata": {},
     "output_type": "display_data"
    },
    {
     "name": "stdout",
     "output_type": "stream",
     "text": [
      "Time elapsed: 1.4476616382598877\n"
     ]
    },
    {
     "data": {
      "text/plain": [
       "'192.168.1.106'"
      ]
     },
     "metadata": {},
     "output_type": "display_data"
    },
    {
     "data": {
      "text/plain": [
       "'192.168.1.236'"
      ]
     },
     "metadata": {},
     "output_type": "display_data"
    },
    {
     "data": {
      "text/plain": [
       "'192.168.1.166'"
      ]
     },
     "metadata": {},
     "output_type": "display_data"
    },
    {
     "data": {
      "text/plain": [
       "'192.168.1.196'"
      ]
     },
     "metadata": {},
     "output_type": "display_data"
    },
    {
     "data": {
      "text/plain": [
       "'192.168.1.112'"
      ]
     },
     "metadata": {},
     "output_type": "display_data"
    },
    {
     "data": {
      "text/plain": [
       "'192.168.1.249'"
      ]
     },
     "metadata": {},
     "output_type": "display_data"
    },
    {
     "data": {
      "text/plain": [
       "'192.168.1.240'"
      ]
     },
     "metadata": {},
     "output_type": "display_data"
    },
    {
     "data": {
      "text/plain": [
       "'192.168.1.143'"
      ]
     },
     "metadata": {},
     "output_type": "display_data"
    },
    {
     "data": {
      "text/plain": [
       "'192.168.1.120'"
      ]
     },
     "metadata": {},
     "output_type": "display_data"
    },
    {
     "data": {
      "text/plain": [
       "'192.168.1.156'"
      ]
     },
     "metadata": {},
     "output_type": "display_data"
    },
    {
     "data": {
      "text/plain": [
       "'192.168.1.239'"
      ]
     },
     "metadata": {},
     "output_type": "display_data"
    },
    {
     "data": {
      "text/plain": [
       "'192.168.1.227'"
      ]
     },
     "metadata": {},
     "output_type": "display_data"
    }
   ],
   "source": [
    "import dpkt\n",
    "import time\n",
    "import socket\n",
    "import os\n",
    "import pandas as pd\n",
    "import numpy as np\n",
    "from IPython.display import display\n",
    "\n",
    "### constants\n",
    "g_dataDir = '../iot_data/'\n",
    "g_dataExtension = '.pcap'\n",
    "g_testfile = '../iot_data/16-09-27.pcap'\n",
    "columns = ['local ip', 'local port', 'remote ip', 'remote port', 'direction', 'tcp data len', 'tcp seq num']\n",
    "\n",
    "### initialization\n",
    "devices = {}\n",
    "start = time.time()\n",
    "dataFiles = []\n",
    "for fileName in os.listdir(g_dataDir):\n",
    "    if fileName.endswith(g_dataExtension):\n",
    "        dataFiles.append(os.path.join(g_dataDir, fileName))\n",
    "\n",
    "### parse pcap files\n",
    "for fileName in dataFiles:\n",
    "    file = open(fileName,'rb')\n",
    "    for ts, pkt in dpkt.pcapng.Reader(file):\n",
    "        eth = dpkt.ethernet.Ethernet(pkt)\n",
    "        if eth.type != dpkt.ethernet.ETH_TYPE_IP:\n",
    "            continue\n",
    "\n",
    "        ip = eth.data\n",
    "        if ip.p != dpkt.ip.IP_PROTO_TCP:\n",
    "            continue\n",
    "\n",
    "        # only tcp traffic is analyzed\n",
    "        tcp = ip.data\n",
    "        srcIp = socket.inet_ntoa(ip.src)\n",
    "        dstIp = socket.inet_ntoa(ip.dst)\n",
    "        if srcIp.startswith('192.168.'):\n",
    "            localIp = srcIp\n",
    "            localPort = tcp.sport\n",
    "            remoteIp = dstIp\n",
    "            remotePort = tcp.dport\n",
    "            direction = 'out'\n",
    "        else:\n",
    "            localIp = dstIp\n",
    "            localPort = tcp.dport\n",
    "            remoteIp = srcIp\n",
    "            remotePort = tcp.sport\n",
    "            direction = 'in'\n",
    "\n",
    "        # check if dataframe is created for this ip\n",
    "        if localIp not in devices:\n",
    "            devices[localIp] = pd.DataFrame(columns = columns)\n",
    "\n",
    "        # save data to corresponding device's dataframe\n",
    "        df = devices[localIp]\n",
    "        df.loc[df.shape[0]] = [\n",
    "            localIp, localPort, remoteIp, remotePort, \n",
    "            direction, len(tcp.data), tcp.seq\n",
    "        ]\n",
    "        if df.shape[0] >= 100:\n",
    "            break\n",
    "\n",
    "print (\"Time elapsed: \" + str(time.time() - start))\n",
    "for key, value in devices.items():\n",
    "    display(key)"
   ]
  },
  {
   "cell_type": "code",
   "execution_count": null,
   "metadata": {},
   "outputs": [],
   "source": []
  }
 ],
 "metadata": {
  "kernelspec": {
   "display_name": "Python 3",
   "language": "python",
   "name": "python3"
  },
  "language_info": {
   "codemirror_mode": {
    "name": "ipython",
    "version": 3
   },
   "file_extension": ".py",
   "mimetype": "text/x-python",
   "name": "python",
   "nbconvert_exporter": "python",
   "pygments_lexer": "ipython3",
   "version": "3.7.2"
  }
 },
 "nbformat": 4,
 "nbformat_minor": 2
}
