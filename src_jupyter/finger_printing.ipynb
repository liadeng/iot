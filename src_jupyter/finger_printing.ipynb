{
 "cells": [
  {
   "cell_type": "code",
   "execution_count": 2,
   "metadata": {},
   "outputs": [
    {
     "name": "stdout",
     "output_type": "stream",
     "text": [
      "Time elapsed: 2.288846015930176\n"
     ]
    },
    {
     "data": {
      "text/plain": [
       "'192.168.1.106'"
      ]
     },
     "metadata": {},
     "output_type": "display_data"
    },
    {
     "data": {
      "text/plain": [
       "'192.168.1.236'"
      ]
     },
     "metadata": {},
     "output_type": "display_data"
    },
    {
     "data": {
      "text/plain": [
       "'192.168.1.166'"
      ]
     },
     "metadata": {},
     "output_type": "display_data"
    },
    {
     "data": {
      "text/plain": [
       "'192.168.1.196'"
      ]
     },
     "metadata": {},
     "output_type": "display_data"
    },
    {
     "data": {
      "text/plain": [
       "'192.168.1.112'"
      ]
     },
     "metadata": {},
     "output_type": "display_data"
    },
    {
     "data": {
      "text/plain": [
       "'192.168.1.249'"
      ]
     },
     "metadata": {},
     "output_type": "display_data"
    },
    {
     "data": {
      "text/plain": [
       "'192.168.1.240'"
      ]
     },
     "metadata": {},
     "output_type": "display_data"
    },
    {
     "data": {
      "text/plain": [
       "'192.168.1.143'"
      ]
     },
     "metadata": {},
     "output_type": "display_data"
    },
    {
     "data": {
      "text/plain": [
       "'192.168.1.120'"
      ]
     },
     "metadata": {},
     "output_type": "display_data"
    },
    {
     "data": {
      "text/plain": [
       "'192.168.1.156'"
      ]
     },
     "metadata": {},
     "output_type": "display_data"
    },
    {
     "data": {
      "text/plain": [
       "'192.168.1.239'"
      ]
     },
     "metadata": {},
     "output_type": "display_data"
    },
    {
     "data": {
      "text/plain": [
       "'192.168.1.227'"
      ]
     },
     "metadata": {},
     "output_type": "display_data"
    }
   ],
   "source": [
    "import dpkt\n",
    "import time\n",
    "import socket\n",
    "import os\n",
    "import pandas as pd\n",
    "import numpy as np\n",
    "from IPython.display import display\n",
    "\n",
    "### constants\n",
    "g_dataDir = '../../iot_data/'\n",
    "g_dataExtension = '.pcap'\n",
    "g_testfile = '../../iot_data/16-09-27.pcap'\n",
    "columns = ['local ip', 'local port', 'remote ip', 'remote port', 'direction', 'tcp data len', 'tcp seq num']\n",
    "\n",
    "### initialization\n",
    "devices = {}\n",
    "start = time.time()\n",
    "dataFiles = []\n",
    "for fileName in os.listdir(g_dataDir):\n",
    "    if fileName.endswith(g_dataExtension):\n",
    "        dataFiles.append(os.path.join(g_dataDir, fileName))\n",
    "\n",
    "### parse pcap files\n",
    "for fileName in dataFiles:\n",
    "    file = open(fileName,'rb')\n",
    "    for ts, pkt in dpkt.pcapng.Reader(file):\n",
    "        eth = dpkt.ethernet.Ethernet(pkt)\n",
    "        if eth.type != dpkt.ethernet.ETH_TYPE_IP:\n",
    "            continue\n",
    "\n",
    "        ip = eth.data\n",
    "        if ip.p != dpkt.ip.IP_PROTO_TCP:\n",
    "            continue\n",
    "\n",
    "        # only tcp traffic is analyzed\n",
    "        tcp = ip.data\n",
    "        srcIp = socket.inet_ntoa(ip.src)\n",
    "        dstIp = socket.inet_ntoa(ip.dst)\n",
    "        if srcIp.startswith('192.168.'):\n",
    "            localIp = srcIp\n",
    "            localPort = tcp.sport\n",
    "            remoteIp = dstIp\n",
    "            remotePort = tcp.dport\n",
    "            direction = 'out'\n",
    "        else:\n",
    "            localIp = dstIp\n",
    "            localPort = tcp.dport\n",
    "            remoteIp = srcIp\n",
    "            remotePort = tcp.sport\n",
    "            direction = 'in'\n",
    "\n",
    "        # check if dataframe is created for this ip\n",
    "        if localIp not in devices:\n",
    "            devices[localIp] = pd.DataFrame(columns = columns)\n",
    "\n",
    "        # save data to corresponding device's dataframe\n",
    "        df = devices[localIp]\n",
    "        df.loc[df.shape[0]] = [\n",
    "            localIp, localPort, remoteIp, remotePort, \n",
    "            direction, len(tcp.data), tcp.seq\n",
    "        ]\n",
    "        if df.shape[0] >= 100:\n",
    "            break\n",
    "\n",
    "print (\"Time elapsed: \" + str(time.time() - start))\n",
    "for key, value in devices.items():\n",
    "    display(key)"
   ]
  },
  {
   "cell_type": "code",
   "execution_count": null,
   "metadata": {},
   "outputs": [],
   "source": []
  }
 ],
 "metadata": {
  "kernelspec": {
   "display_name": "Python 3",
   "language": "python",
   "name": "python3"
  },
  "language_info": {
   "codemirror_mode": {
    "name": "ipython",
    "version": 3
   },
   "file_extension": ".py",
   "mimetype": "text/x-python",
   "name": "python",
   "nbconvert_exporter": "python",
   "pygments_lexer": "ipython3",
   "version": "3.7.2"
  }
 },
 "nbformat": 4,
 "nbformat_minor": 2
}
